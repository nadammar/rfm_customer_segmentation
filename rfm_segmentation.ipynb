{
  "nbformat": 4,
  "nbformat_minor": 0,
  "metadata": {
    "colab": {
      "provenance": [],
      "gpuType": "T4"
    },
    "kernelspec": {
      "name": "python3",
      "display_name": "Python 3"
    },
    "language_info": {
      "name": "python"
    },
    "accelerator": "GPU"
  },
  "cells": [
    {
      "cell_type": "code",
      "source": [
        "!pip install pyspark"
      ],
      "metadata": {
        "colab": {
          "base_uri": "https://localhost:8080/"
        },
        "id": "Zz2LtLTtJV4g",
        "outputId": "baa2dfdc-c72a-49ce-fbf7-1aa4bf626c82"
      },
      "execution_count": 1,
      "outputs": [
        {
          "output_type": "stream",
          "name": "stdout",
          "text": [
            "Requirement already satisfied: pyspark in /usr/local/lib/python3.12/dist-packages (3.5.1)\n",
            "Requirement already satisfied: py4j==0.10.9.7 in /usr/local/lib/python3.12/dist-packages (from pyspark) (0.10.9.7)\n"
          ]
        }
      ]
    },
    {
      "cell_type": "code",
      "execution_count": 2,
      "metadata": {
        "id": "vuLlJo56G_vN"
      },
      "outputs": [],
      "source": [
        "import numpy as np\n",
        "import pandas as pd\n",
        "from pyspark.sql import SparkSession\n"
      ]
    },
    {
      "cell_type": "markdown",
      "source": [
        "### pyspark session"
      ],
      "metadata": {
        "id": "Y36Do3NPcl5B"
      }
    },
    {
      "cell_type": "code",
      "source": [
        "spark = SparkSession.builder.appName(\"NadaAPP\").config(\"spark.memory.offHeap.enabled\",\"true\").config(\"spark.memory.offHeap.size\",\"10g\").getOrCreate()"
      ],
      "metadata": {
        "id": "UT_95cskb_LA"
      },
      "execution_count": 3,
      "outputs": []
    },
    {
      "cell_type": "code",
      "source": [
        "from google.colab import drive\n",
        "drive.mount('/content/drive')"
      ],
      "metadata": {
        "colab": {
          "base_uri": "https://localhost:8080/"
        },
        "id": "xRn2roz7zSqQ",
        "outputId": "65e0a72d-13b5-4856-95ed-6cd5ee69ad5f"
      },
      "execution_count": 6,
      "outputs": [
        {
          "output_type": "stream",
          "name": "stdout",
          "text": [
            "Mounted at /content/drive\n"
          ]
        }
      ]
    },
    {
      "cell_type": "code",
      "source": [
        "df = spark.read.csv('/content/drive/MyDrive/finalyear_eng/spark/ecommerce.csv', header=True, escape=\"\\\"\")"
      ],
      "metadata": {
        "id": "SkqgjrIgcWHl"
      },
      "execution_count": 7,
      "outputs": []
    },
    {
      "cell_type": "code",
      "source": [
        "df.show(5)"
      ],
      "metadata": {
        "colab": {
          "base_uri": "https://localhost:8080/"
        },
        "id": "EPhsCDHtczKl",
        "outputId": "64b22ee4-3b35-4f42-d795-e01b230991e5"
      },
      "execution_count": 8,
      "outputs": [
        {
          "output_type": "stream",
          "name": "stdout",
          "text": [
            "+---------+---------+--------------------+--------+------------+---------+----------+--------------+\n",
            "|InvoiceNo|StockCode|         Description|Quantity| InvoiceDate|UnitPrice|CustomerID|       Country|\n",
            "+---------+---------+--------------------+--------+------------+---------+----------+--------------+\n",
            "|   536365|   85123A|WHITE HANGING HEA...|       6|12/1/10 8:26|     2.55|     17850|United Kingdom|\n",
            "|   536365|    71053| WHITE METAL LANTERN|       6|12/1/10 8:26|     3.39|     17850|United Kingdom|\n",
            "|   536365|   84406B|CREAM CUPID HEART...|       8|12/1/10 8:26|     2.75|     17850|United Kingdom|\n",
            "|   536365|   84029G|KNITTED UNION FLA...|       6|12/1/10 8:26|     3.39|     17850|United Kingdom|\n",
            "|   536365|   84029E|RED WOOLLY HOTTIE...|       6|12/1/10 8:26|     3.39|     17850|United Kingdom|\n",
            "+---------+---------+--------------------+--------+------------+---------+----------+--------------+\n",
            "only showing top 5 rows\n",
            "\n"
          ]
        }
      ]
    },
    {
      "cell_type": "code",
      "source": [
        "df.describe().show()"
      ],
      "metadata": {
        "colab": {
          "base_uri": "https://localhost:8080/"
        },
        "id": "XUX_BNsNc8T0",
        "outputId": "c1e62179-ccb8-4fc5-ffbd-1e5d29fe8df6"
      },
      "execution_count": 9,
      "outputs": [
        {
          "output_type": "stream",
          "name": "stdout",
          "text": [
            "+-------+-----------------+------------------+--------------------+------------------+-------------+------------------+------------------+--------------+\n",
            "|summary|        InvoiceNo|         StockCode|         Description|          Quantity|  InvoiceDate|         UnitPrice|        CustomerID|       Country|\n",
            "+-------+-----------------+------------------+--------------------+------------------+-------------+------------------+------------------+--------------+\n",
            "|  count|             6250|              6250|                6250|              6250|         6250|              6250|              6250|          6250|\n",
            "|   mean|536647.1371150729|28317.307538237437|                NULL|           8.26192|         NULL| 4.260302400000013|15866.708547407754|          NULL|\n",
            "| stddev|154.5143322743332|18054.465841089295|                NULL|129.78080554192744|         NULL|17.911911509841264|1752.1682121447004|          NULL|\n",
            "|    min|           536365|             10002|\"ACRYLIC JEWEL IC...|                -1|12/1/10 10:03|                 0|             12427|     Australia|\n",
            "|    max|          C536855|              POST|                null|                96| 12/3/10 9:51|              9.95|                NA|United Kingdom|\n",
            "+-------+-----------------+------------------+--------------------+------------------+-------------+------------------+------------------+--------------+\n",
            "\n"
          ]
        }
      ]
    },
    {
      "cell_type": "code",
      "source": [
        "df.count()"
      ],
      "metadata": {
        "colab": {
          "base_uri": "https://localhost:8080/"
        },
        "id": "j2QF2X1Vc_Hl",
        "outputId": "44063f2d-305d-462d-8822-658e268b669a"
      },
      "execution_count": 10,
      "outputs": [
        {
          "output_type": "execute_result",
          "data": {
            "text/plain": [
              "6250"
            ]
          },
          "metadata": {},
          "execution_count": 10
        }
      ]
    },
    {
      "cell_type": "code",
      "source": [
        "df.groupBy('CustomerID').count().distinct().show()"
      ],
      "metadata": {
        "colab": {
          "base_uri": "https://localhost:8080/"
        },
        "id": "8N5S3FaudCHl",
        "outputId": "35429efc-01db-4fe7-e370-71620f50b9f4"
      },
      "execution_count": 11,
      "outputs": [
        {
          "output_type": "stream",
          "name": "stdout",
          "text": [
            "+----------+-----+\n",
            "|CustomerID|count|\n",
            "+----------+-----+\n",
            "|     16250|   14|\n",
            "|     15574|  121|\n",
            "|     17757|   23|\n",
            "|     17855|   17|\n",
            "|     15107|    5|\n",
            "|     14443|    3|\n",
            "|     14236|    3|\n",
            "|     15100|    1|\n",
            "|     13065|   14|\n",
            "|     16510|   13|\n",
            "|     13520|    6|\n",
            "|     12838|   59|\n",
            "|     15350|    5|\n",
            "|     12472|   14|\n",
            "|     15235|    5|\n",
            "|     15544|   26|\n",
            "|     12967|   15|\n",
            "|     15012|   54|\n",
            "|     17961|   29|\n",
            "|     17976|   65|\n",
            "+----------+-----+\n",
            "only showing top 20 rows\n",
            "\n"
          ]
        }
      ]
    },
    {
      "cell_type": "markdown",
      "source": [
        "### Top countries"
      ],
      "metadata": {
        "id": "Cu2BeCXTeL9d"
      }
    },
    {
      "cell_type": "code",
      "source": [
        "df.groupBy('Country').count().show()"
      ],
      "metadata": {
        "colab": {
          "base_uri": "https://localhost:8080/"
        },
        "id": "5KkvZ1IFeM3G",
        "outputId": "9da36236-057e-4827-d51b-26afe925ad72"
      },
      "execution_count": 12,
      "outputs": [
        {
          "output_type": "stream",
          "name": "stdout",
          "text": [
            "+--------------+-----+\n",
            "|       Country|count|\n",
            "+--------------+-----+\n",
            "|       Germany|   51|\n",
            "|        France|   27|\n",
            "|          EIRE|   24|\n",
            "|        Norway|   73|\n",
            "|   Switzerland|    6|\n",
            "|     Australia|   14|\n",
            "|United Kingdom| 6053|\n",
            "|   Netherlands|    2|\n",
            "+--------------+-----+\n",
            "\n"
          ]
        }
      ]
    },
    {
      "cell_type": "markdown",
      "source": [
        "### the resulting data in order of purchases.\n"
      ],
      "metadata": {
        "id": "P6fwEAQofysY"
      }
    },
    {
      "cell_type": "code",
      "source": [
        "df.orderBy('Quantity').show()"
      ],
      "metadata": {
        "colab": {
          "base_uri": "https://localhost:8080/"
        },
        "id": "UZyyB9YSft42",
        "outputId": "649c8ff8-41e6-490a-d073-7ad2e4310ec8"
      },
      "execution_count": 13,
      "outputs": [
        {
          "output_type": "stream",
          "name": "stdout",
          "text": [
            "+---------+---------+--------------------+--------+-------------+---------+----------+--------------+\n",
            "|InvoiceNo|StockCode|         Description|Quantity|  InvoiceDate|UnitPrice|CustomerID|       Country|\n",
            "+---------+---------+--------------------+--------+-------------+---------+----------+--------------+\n",
            "|  C536642|    21463| MIRRORED DISCO BALL|      -1|12/2/10 11:56|     5.95|     14390|United Kingdom|\n",
            "|  C536817|    71477|COLOUR GLASS. STA...|      -1|12/2/10 17:08|     3.25|     14156|          EIRE|\n",
            "|  C536734|    85048|15CM CHRISTMAS GL...|      -1|12/2/10 12:50|     7.95|     16042|United Kingdom|\n",
            "|  C536383|   35004C|SET OF 3 COLOURED...|      -1| 12/1/10 9:49|     4.65|     15311|United Kingdom|\n",
            "|  C536760|    22175|   PINK OWL SOFT TOY|      -1|12/2/10 14:29|     2.95|     17547|United Kingdom|\n",
            "|  C536817|    22187|GREEN CHRISTMAS T...|      -1|12/2/10 17:08|     4.25|     14156|          EIRE|\n",
            "|  C536807|    22778|  GLASS CLOCHE SMALL|      -1|12/2/10 16:45|     3.95|     15834|United Kingdom|\n",
            "|  C536543|    22632|HAND WARMER RED R...|      -1|12/1/10 14:30|      2.1|     17841|United Kingdom|\n",
            "|  C536548|    20914|SET/5 RED RETROSP...|      -1|12/1/10 14:33|     2.95|     12472|       Germany|\n",
            "|  C536815|    22178|VICTORIAN GLASS H...|      -1|12/2/10 17:05|     1.25|     14443|United Kingdom|\n",
            "|  C536548|    22654|   DELUXE SEWING KIT|      -1|12/1/10 14:33|     5.95|     12472|       Germany|\n",
            "|  C536548|    22631|CIRCUS PARADE LUN...|      -1|12/1/10 14:33|     1.95|     12472|       Germany|\n",
            "|  C536548|    22333|RETROSPOT PARTY B...|      -1|12/1/10 14:33|     1.65|     12472|       Germany|\n",
            "|  C536548|    20957|PORCELAIN HANGING...|      -1|12/1/10 14:33|     1.45|     12472|       Germany|\n",
            "|  C536379|        D|            Discount|      -1| 12/1/10 9:41|     27.5|     14527|United Kingdom|\n",
            "|  C536758|    21314|SMALL GLASS HEART...|      -1|12/2/10 14:25|      2.1|     13767|United Kingdom|\n",
            "|  C536815|    85175|CACTI T-LIGHT CAN...|      -1|12/2/10 17:05|     0.42|     14443|United Kingdom|\n",
            "|  C536814|    21258|VICTORIAN SEWING ...|      -1|12/2/10 17:03|    12.75|     13958|United Kingdom|\n",
            "|  C536818|    84947|ANTIQUE SILVER TE...|      -1|12/2/10 17:09|     1.25|     16995|United Kingdom|\n",
            "|  C536820|    22877|NUMBER TILE COTTA...|      -1|12/2/10 17:14|     1.95|     18168|United Kingdom|\n",
            "+---------+---------+--------------------+--------+-------------+---------+----------+--------------+\n",
            "only showing top 20 rows\n",
            "\n"
          ]
        }
      ]
    },
    {
      "cell_type": "markdown",
      "source": [
        "### last purshase"
      ],
      "metadata": {
        "id": "K-9AHgUuhYD2"
      }
    },
    {
      "cell_type": "code",
      "source": [
        "from pyspark.sql.functions import  *"
      ],
      "metadata": {
        "id": "tVLos0dAiSqS"
      },
      "execution_count": 14,
      "outputs": []
    },
    {
      "cell_type": "code",
      "source": [
        "df.select(max('InvoiceDate')).show()"
      ],
      "metadata": {
        "colab": {
          "base_uri": "https://localhost:8080/"
        },
        "id": "0n37jM5ug4IX",
        "outputId": "84b832c4-12aa-433e-d43c-aefcc0081ed8"
      },
      "execution_count": 15,
      "outputs": [
        {
          "output_type": "stream",
          "name": "stdout",
          "text": [
            "+----------------+\n",
            "|max(InvoiceDate)|\n",
            "+----------------+\n",
            "|    12/3/10 9:51|\n",
            "+----------------+\n",
            "\n"
          ]
        }
      ]
    },
    {
      "cell_type": "markdown",
      "source": [
        "### First Purchase"
      ],
      "metadata": {
        "id": "N2rJZdNchc6Q"
      }
    },
    {
      "cell_type": "code",
      "source": [
        "from pyspark.sql.functions import  min"
      ],
      "metadata": {
        "id": "N1aTy-K-hkE1"
      },
      "execution_count": 16,
      "outputs": []
    },
    {
      "cell_type": "code",
      "source": [
        "date_min = df.select(min('InvoiceDate')).show()"
      ],
      "metadata": {
        "colab": {
          "base_uri": "https://localhost:8080/"
        },
        "id": "AS7zujwaiZ42",
        "outputId": "240b0b56-bd0a-472a-dd62-bfb2c1e79a31"
      },
      "execution_count": 17,
      "outputs": [
        {
          "output_type": "stream",
          "name": "stdout",
          "text": [
            "+----------------+\n",
            "|min(InvoiceDate)|\n",
            "+----------------+\n",
            "|   12/1/10 10:03|\n",
            "+----------------+\n",
            "\n"
          ]
        }
      ]
    },
    {
      "cell_type": "markdown",
      "source": [
        "# II. Data preprocessing"
      ],
      "metadata": {
        "id": "1VHBCxd-jQRq"
      }
    },
    {
      "cell_type": "code",
      "source": [
        "df.show(25)"
      ],
      "metadata": {
        "colab": {
          "base_uri": "https://localhost:8080/"
        },
        "id": "7-2JbDxzicWG",
        "outputId": "373d64e9-c0d9-49a6-ad13-28822f035427"
      },
      "execution_count": 18,
      "outputs": [
        {
          "output_type": "stream",
          "name": "stdout",
          "text": [
            "+---------+---------+--------------------+--------+------------+---------+----------+--------------+\n",
            "|InvoiceNo|StockCode|         Description|Quantity| InvoiceDate|UnitPrice|CustomerID|       Country|\n",
            "+---------+---------+--------------------+--------+------------+---------+----------+--------------+\n",
            "|   536365|   85123A|WHITE HANGING HEA...|       6|12/1/10 8:26|     2.55|     17850|United Kingdom|\n",
            "|   536365|    71053| WHITE METAL LANTERN|       6|12/1/10 8:26|     3.39|     17850|United Kingdom|\n",
            "|   536365|   84406B|CREAM CUPID HEART...|       8|12/1/10 8:26|     2.75|     17850|United Kingdom|\n",
            "|   536365|   84029G|KNITTED UNION FLA...|       6|12/1/10 8:26|     3.39|     17850|United Kingdom|\n",
            "|   536365|   84029E|RED WOOLLY HOTTIE...|       6|12/1/10 8:26|     3.39|     17850|United Kingdom|\n",
            "|   536365|    22752|SET 7 BABUSHKA NE...|       2|12/1/10 8:26|     7.65|     17850|United Kingdom|\n",
            "|   536365|    21730|GLASS STAR FROSTE...|       6|12/1/10 8:26|     4.25|     17850|United Kingdom|\n",
            "|   536366|    22633|HAND WARMER UNION...|       6|12/1/10 8:28|     1.85|     17850|United Kingdom|\n",
            "|   536366|    22632|HAND WARMER RED P...|       6|12/1/10 8:28|     1.85|     17850|United Kingdom|\n",
            "|   536367|    84879|ASSORTED COLOUR B...|      32|12/1/10 8:34|     1.69|     13047|United Kingdom|\n",
            "|   536367|    22745|POPPY'S PLAYHOUSE...|       6|12/1/10 8:34|      2.1|     13047|United Kingdom|\n",
            "|   536367|    22748|POPPY'S PLAYHOUSE...|       6|12/1/10 8:34|      2.1|     13047|United Kingdom|\n",
            "|   536367|    22749|FELTCRAFT PRINCES...|       8|12/1/10 8:34|     3.75|     13047|United Kingdom|\n",
            "|   536367|    22310|IVORY KNITTED MUG...|       6|12/1/10 8:34|     1.65|     13047|United Kingdom|\n",
            "|   536367|    84969|BOX OF 6 ASSORTED...|       6|12/1/10 8:34|     4.25|     13047|United Kingdom|\n",
            "|   536367|    22623|BOX OF VINTAGE JI...|       3|12/1/10 8:34|     4.95|     13047|United Kingdom|\n",
            "|   536367|    22622|BOX OF VINTAGE AL...|       2|12/1/10 8:34|     9.95|     13047|United Kingdom|\n",
            "|   536367|    21754|HOME BUILDING BLO...|       3|12/1/10 8:34|     5.95|     13047|United Kingdom|\n",
            "|   536367|    21755|LOVE BUILDING BLO...|       3|12/1/10 8:34|     5.95|     13047|United Kingdom|\n",
            "|   536367|    21777|RECIPE BOX WITH M...|       4|12/1/10 8:34|     7.95|     13047|United Kingdom|\n",
            "|   536367|    48187| DOORMAT NEW ENGLAND|       4|12/1/10 8:34|     7.95|     13047|United Kingdom|\n",
            "|   536368|    22960|JAM MAKING SET WI...|       6|12/1/10 8:34|     4.25|     13047|United Kingdom|\n",
            "|   536368|    22913|RED COAT RACK PAR...|       3|12/1/10 8:34|     4.95|     13047|United Kingdom|\n",
            "|   536368|    22912|YELLOW COAT RACK ...|       3|12/1/10 8:34|     4.95|     13047|United Kingdom|\n",
            "|   536368|    22914|BLUE COAT RACK PA...|       3|12/1/10 8:34|     4.95|     13047|United Kingdom|\n",
            "+---------+---------+--------------------+--------+------------+---------+----------+--------------+\n",
            "only showing top 25 rows\n",
            "\n"
          ]
        }
      ]
    },
    {
      "cell_type": "markdown",
      "source": [
        "### Recence"
      ],
      "metadata": {
        "id": "cngfyTS2S3Nb"
      }
    },
    {
      "cell_type": "code",
      "source": [
        "from pyspark.sql.functions import*\n",
        "from pyspark.sql.types import*"
      ],
      "metadata": {
        "id": "J7SLV5cXT-c2"
      },
      "execution_count": 19,
      "outputs": []
    },
    {
      "cell_type": "code",
      "source": [
        "spark.sql(\"set spark.sql.legacy.timeParserPolicy=LEGACY\")\n",
        "df = df.withColumn('date', to_timestamp(\"InvoiceDate\", 'yy/MM/dd HH:mm'))\n",
        "df.select(max('date')).show()"
      ],
      "metadata": {
        "colab": {
          "base_uri": "https://localhost:8080/"
        },
        "id": "UL0rIvFZWkg_",
        "outputId": "c28fc7e4-02c8-42ff-89f0-13c71d4746b1"
      },
      "execution_count": 20,
      "outputs": [
        {
          "output_type": "stream",
          "name": "stdout",
          "text": [
            "+-------------------+\n",
            "|          max(date)|\n",
            "+-------------------+\n",
            "|2012-03-10 11:36:00|\n",
            "+-------------------+\n",
            "\n"
          ]
        }
      ]
    },
    {
      "cell_type": "code",
      "source": [
        "df = df.withColumn('from_date', lit(\"12/1/10 10:03\"))\n",
        "df = df.withColumn('from_date', to_timestamp(df.from_date, 'yy/MM/dd HH:mm'))\n",
        "df2 = df.withColumn('recency',(col('from_date')).cast(\"long\") - (col('date')).cast(\"long\"))\n"
      ],
      "metadata": {
        "id": "DfH-XAKgRcgL"
      },
      "execution_count": 21,
      "outputs": []
    },
    {
      "cell_type": "code",
      "source": [
        "from pyspark.sql.functions import max\n",
        "df2 = df2.join(df2.groupBy('CustomerID').agg(max('recency').alias('recency')), on=['recency'], how='leftsemi')"
      ],
      "metadata": {
        "id": "Cyezem2CVYu1"
      },
      "execution_count": 22,
      "outputs": []
    },
    {
      "cell_type": "code",
      "source": [
        "df2.show(30,0)"
      ],
      "metadata": {
        "colab": {
          "base_uri": "https://localhost:8080/"
        },
        "id": "paA9oOG5XfyF",
        "outputId": "bc229c2f-3a48-4d8f-bec2-08e1cc3f724e"
      },
      "execution_count": 23,
      "outputs": [
        {
          "output_type": "stream",
          "name": "stdout",
          "text": [
            "+-------+---------+---------+-----------------------------------+--------+------------+---------+----------+--------------+-------------------+-------------------+\n",
            "|recency|InvoiceNo|StockCode|Description                        |Quantity|InvoiceDate |UnitPrice|CustomerID|Country       |date               |from_date          |\n",
            "+-------+---------+---------+-----------------------------------+--------+------------+---------+----------+--------------+-------------------+-------------------+\n",
            "|5820   |536365   |85123A   |WHITE HANGING HEART T-LIGHT HOLDER |6       |12/1/10 8:26|2.55     |17850     |United Kingdom|2012-01-10 08:26:00|2012-01-10 10:03:00|\n",
            "|5820   |536365   |71053    |WHITE METAL LANTERN                |6       |12/1/10 8:26|3.39     |17850     |United Kingdom|2012-01-10 08:26:00|2012-01-10 10:03:00|\n",
            "|5820   |536365   |84406B   |CREAM CUPID HEARTS COAT HANGER     |8       |12/1/10 8:26|2.75     |17850     |United Kingdom|2012-01-10 08:26:00|2012-01-10 10:03:00|\n",
            "|5820   |536365   |84029G   |KNITTED UNION FLAG HOT WATER BOTTLE|6       |12/1/10 8:26|3.39     |17850     |United Kingdom|2012-01-10 08:26:00|2012-01-10 10:03:00|\n",
            "|5820   |536365   |84029E   |RED WOOLLY HOTTIE WHITE HEART.     |6       |12/1/10 8:26|3.39     |17850     |United Kingdom|2012-01-10 08:26:00|2012-01-10 10:03:00|\n",
            "|5820   |536365   |22752    |SET 7 BABUSHKA NESTING BOXES       |2       |12/1/10 8:26|7.65     |17850     |United Kingdom|2012-01-10 08:26:00|2012-01-10 10:03:00|\n",
            "|5820   |536365   |21730    |GLASS STAR FROSTED T-LIGHT HOLDER  |6       |12/1/10 8:26|4.25     |17850     |United Kingdom|2012-01-10 08:26:00|2012-01-10 10:03:00|\n",
            "|5340   |536367   |84879    |ASSORTED COLOUR BIRD ORNAMENT      |32      |12/1/10 8:34|1.69     |13047     |United Kingdom|2012-01-10 08:34:00|2012-01-10 10:03:00|\n",
            "|5340   |536367   |22745    |POPPY'S PLAYHOUSE BEDROOM          |6       |12/1/10 8:34|2.1      |13047     |United Kingdom|2012-01-10 08:34:00|2012-01-10 10:03:00|\n",
            "|5340   |536367   |22748    |POPPY'S PLAYHOUSE KITCHEN          |6       |12/1/10 8:34|2.1      |13047     |United Kingdom|2012-01-10 08:34:00|2012-01-10 10:03:00|\n",
            "|5340   |536367   |22749    |FELTCRAFT PRINCESS CHARLOTTE DOLL  |8       |12/1/10 8:34|3.75     |13047     |United Kingdom|2012-01-10 08:34:00|2012-01-10 10:03:00|\n",
            "|5340   |536367   |22310    |IVORY KNITTED MUG COSY             |6       |12/1/10 8:34|1.65     |13047     |United Kingdom|2012-01-10 08:34:00|2012-01-10 10:03:00|\n",
            "|5340   |536367   |84969    |BOX OF 6 ASSORTED COLOUR TEASPOONS |6       |12/1/10 8:34|4.25     |13047     |United Kingdom|2012-01-10 08:34:00|2012-01-10 10:03:00|\n",
            "|5340   |536367   |22623    |BOX OF VINTAGE JIGSAW BLOCKS       |3       |12/1/10 8:34|4.95     |13047     |United Kingdom|2012-01-10 08:34:00|2012-01-10 10:03:00|\n",
            "|5340   |536367   |22622    |BOX OF VINTAGE ALPHABET BLOCKS     |2       |12/1/10 8:34|9.95     |13047     |United Kingdom|2012-01-10 08:34:00|2012-01-10 10:03:00|\n",
            "|5340   |536367   |21754    |HOME BUILDING BLOCK WORD           |3       |12/1/10 8:34|5.95     |13047     |United Kingdom|2012-01-10 08:34:00|2012-01-10 10:03:00|\n",
            "|5340   |536367   |21755    |LOVE BUILDING BLOCK WORD           |3       |12/1/10 8:34|5.95     |13047     |United Kingdom|2012-01-10 08:34:00|2012-01-10 10:03:00|\n",
            "|5340   |536367   |21777    |RECIPE BOX WITH METAL HEART        |4       |12/1/10 8:34|7.95     |13047     |United Kingdom|2012-01-10 08:34:00|2012-01-10 10:03:00|\n",
            "|5340   |536367   |48187    |DOORMAT NEW ENGLAND                |4       |12/1/10 8:34|7.95     |13047     |United Kingdom|2012-01-10 08:34:00|2012-01-10 10:03:00|\n",
            "|5340   |536368   |22960    |JAM MAKING SET WITH JARS           |6       |12/1/10 8:34|4.25     |13047     |United Kingdom|2012-01-10 08:34:00|2012-01-10 10:03:00|\n",
            "|5340   |536368   |22913    |RED COAT RACK PARIS FASHION        |3       |12/1/10 8:34|4.95     |13047     |United Kingdom|2012-01-10 08:34:00|2012-01-10 10:03:00|\n",
            "|5340   |536368   |22912    |YELLOW COAT RACK PARIS FASHION     |3       |12/1/10 8:34|4.95     |13047     |United Kingdom|2012-01-10 08:34:00|2012-01-10 10:03:00|\n",
            "|5340   |536368   |22914    |BLUE COAT RACK PARIS FASHION       |3       |12/1/10 8:34|4.95     |13047     |United Kingdom|2012-01-10 08:34:00|2012-01-10 10:03:00|\n",
            "|4680   |536370   |22728    |ALARM CLOCK BAKELIKE PINK          |24      |12/1/10 8:45|3.75     |12583     |France        |2012-01-10 08:45:00|2012-01-10 10:03:00|\n",
            "|4680   |536370   |22727    |ALARM CLOCK BAKELIKE RED           |24      |12/1/10 8:45|3.75     |12583     |France        |2012-01-10 08:45:00|2012-01-10 10:03:00|\n",
            "|4680   |536370   |22726    |ALARM CLOCK BAKELIKE GREEN         |12      |12/1/10 8:45|3.75     |12583     |France        |2012-01-10 08:45:00|2012-01-10 10:03:00|\n",
            "|4680   |536370   |21724    |PANDA AND BUNNIES STICKER SHEET    |12      |12/1/10 8:45|0.85     |12583     |France        |2012-01-10 08:45:00|2012-01-10 10:03:00|\n",
            "|4680   |536370   |21883    |STARS GIFT TAPE                    |24      |12/1/10 8:45|0.65     |12583     |France        |2012-01-10 08:45:00|2012-01-10 10:03:00|\n",
            "|4680   |536370   |10002    |INFLATABLE POLITICAL GLOBE         |48      |12/1/10 8:45|0.85     |12583     |France        |2012-01-10 08:45:00|2012-01-10 10:03:00|\n",
            "|4680   |536370   |21791    |VINTAGE HEADS AND TAILS CARD GAME  |24      |12/1/10 8:45|1.25     |12583     |France        |2012-01-10 08:45:00|2012-01-10 10:03:00|\n",
            "+-------+---------+---------+-----------------------------------+--------+------------+---------+----------+--------------+-------------------+-------------------+\n",
            "only showing top 30 rows\n",
            "\n"
          ]
        }
      ]
    },
    {
      "cell_type": "code",
      "source": [
        "df2.select(max('recency')).show()"
      ],
      "metadata": {
        "colab": {
          "base_uri": "https://localhost:8080/"
        },
        "id": "HdwEQg-Ynz2e",
        "outputId": "70b31f08-3eb7-4659-d1a0-8b0e927f5aa1"
      },
      "execution_count": 24,
      "outputs": [
        {
          "output_type": "stream",
          "name": "stdout",
          "text": [
            "+------------+\n",
            "|max(recency)|\n",
            "+------------+\n",
            "|        5820|\n",
            "+------------+\n",
            "\n"
          ]
        }
      ]
    },
    {
      "cell_type": "markdown",
      "source": [
        "### Frequency"
      ],
      "metadata": {
        "id": "tD3lx4USl1ym"
      }
    },
    {
      "cell_type": "code",
      "source": [
        "df_freq = df2.groupBy('CustomerID').agg(count('InvoiceDate').alias('frequency'))"
      ],
      "metadata": {
        "id": "t9OPkQltX7J1"
      },
      "execution_count": 25,
      "outputs": []
    },
    {
      "cell_type": "code",
      "source": [
        "df_freq.show()"
      ],
      "metadata": {
        "colab": {
          "base_uri": "https://localhost:8080/"
        },
        "id": "3087JdmQuRfd",
        "outputId": "8b1a1317-8816-4e29-f6b6-f9840c8a9ca4"
      },
      "execution_count": 26,
      "outputs": [
        {
          "output_type": "stream",
          "name": "stdout",
          "text": [
            "+----------+---------+\n",
            "|CustomerID|frequency|\n",
            "+----------+---------+\n",
            "|     16250|       14|\n",
            "|     15574|      121|\n",
            "|     17757|       23|\n",
            "|     17855|       17|\n",
            "|     15107|        5|\n",
            "|     14443|        2|\n",
            "|     14236|        3|\n",
            "|     15100|        1|\n",
            "|     13065|       14|\n",
            "|     16510|       13|\n",
            "|     13520|        6|\n",
            "|     12838|       59|\n",
            "|     15350|        5|\n",
            "|     12472|       14|\n",
            "|     15235|        5|\n",
            "|     15544|       26|\n",
            "|     12967|       15|\n",
            "|     15012|       54|\n",
            "|     17961|       29|\n",
            "|     17976|       65|\n",
            "+----------+---------+\n",
            "only showing top 20 rows\n",
            "\n"
          ]
        }
      ]
    },
    {
      "cell_type": "code",
      "source": [
        "df3 = df2.join(df_freq, on='CustomerID', how='inner')"
      ],
      "metadata": {
        "id": "7_2jwDZRmdUL"
      },
      "execution_count": 27,
      "outputs": []
    },
    {
      "cell_type": "code",
      "source": [
        "df3.show(5)"
      ],
      "metadata": {
        "colab": {
          "base_uri": "https://localhost:8080/"
        },
        "id": "5mC_9wHNqUoE",
        "outputId": "ee8275c8-6829-4a3d-c210-417fde9f798c"
      },
      "execution_count": 28,
      "outputs": [
        {
          "output_type": "stream",
          "name": "stdout",
          "text": [
            "+----------+-------+---------+---------+--------------------+--------+------------+---------+--------------+-------------------+-------------------+---------+\n",
            "|CustomerID|recency|InvoiceNo|StockCode|         Description|Quantity| InvoiceDate|UnitPrice|       Country|               date|          from_date|frequency|\n",
            "+----------+-------+---------+---------+--------------------+--------+------------+---------+--------------+-------------------+-------------------+---------+\n",
            "|     17850|   5820|   536365|   85123A|WHITE HANGING HEA...|       6|12/1/10 8:26|     2.55|United Kingdom|2012-01-10 08:26:00|2012-01-10 10:03:00|       60|\n",
            "|     17850|   5820|   536365|    71053| WHITE METAL LANTERN|       6|12/1/10 8:26|     3.39|United Kingdom|2012-01-10 08:26:00|2012-01-10 10:03:00|       60|\n",
            "|     17850|   5820|   536365|   84406B|CREAM CUPID HEART...|       8|12/1/10 8:26|     2.75|United Kingdom|2012-01-10 08:26:00|2012-01-10 10:03:00|       60|\n",
            "|     17850|   5820|   536365|   84029G|KNITTED UNION FLA...|       6|12/1/10 8:26|     3.39|United Kingdom|2012-01-10 08:26:00|2012-01-10 10:03:00|       60|\n",
            "|     17850|   5820|   536365|   84029E|RED WOOLLY HOTTIE...|       6|12/1/10 8:26|     3.39|United Kingdom|2012-01-10 08:26:00|2012-01-10 10:03:00|       60|\n",
            "+----------+-------+---------+---------+--------------------+--------+------------+---------+--------------+-------------------+-------------------+---------+\n",
            "only showing top 5 rows\n",
            "\n"
          ]
        }
      ]
    },
    {
      "cell_type": "markdown",
      "source": [
        "### Monetary"
      ],
      "metadata": {
        "id": "RnE9I5beol3u"
      }
    },
    {
      "cell_type": "code",
      "source": [
        "m_val = df3.withColumn('TotalAmount',col('UnitPrice')*col('Quantity'))"
      ],
      "metadata": {
        "id": "Y6STsRvTolRY"
      },
      "execution_count": 29,
      "outputs": []
    },
    {
      "cell_type": "code",
      "source": [
        "m_val = m_val.groupBy('CustomerID').agg(sum('TotalAmount').alias('moneytaru_value'))"
      ],
      "metadata": {
        "id": "_5x-Hghlof6t"
      },
      "execution_count": 30,
      "outputs": []
    },
    {
      "cell_type": "code",
      "source": [
        "finaldf = m_val.join(df3,on='CustomerID',how='inner')"
      ],
      "metadata": {
        "id": "Dt3t6JFgpUW-"
      },
      "execution_count": 31,
      "outputs": []
    },
    {
      "cell_type": "code",
      "source": [
        "finaldf.show(5,0)"
      ],
      "metadata": {
        "colab": {
          "base_uri": "https://localhost:8080/"
        },
        "id": "XAlDU2mYpsIA",
        "outputId": "94d9d37c-a5ad-4b00-bdbf-6e7c5ec9e85f"
      },
      "execution_count": 32,
      "outputs": [
        {
          "output_type": "stream",
          "name": "stdout",
          "text": [
            "+----------+------------------+-------+---------+---------+-----------------------------------+--------+------------+---------+--------------+-------------------+-------------------+---------+\n",
            "|CustomerID|moneytaru_value   |recency|InvoiceNo|StockCode|Description                        |Quantity|InvoiceDate |UnitPrice|Country       |date               |from_date          |frequency|\n",
            "+----------+------------------+-------+---------+---------+-----------------------------------+--------+------------+---------+--------------+-------------------+-------------------+---------+\n",
            "|17850     |1026.5000000000002|5820   |536365   |85123A   |WHITE HANGING HEART T-LIGHT HOLDER |6       |12/1/10 8:26|2.55     |United Kingdom|2012-01-10 08:26:00|2012-01-10 10:03:00|60       |\n",
            "|17850     |1026.5000000000002|5820   |536365   |71053    |WHITE METAL LANTERN                |6       |12/1/10 8:26|3.39     |United Kingdom|2012-01-10 08:26:00|2012-01-10 10:03:00|60       |\n",
            "|17850     |1026.5000000000002|5820   |536365   |84406B   |CREAM CUPID HEARTS COAT HANGER     |8       |12/1/10 8:26|2.75     |United Kingdom|2012-01-10 08:26:00|2012-01-10 10:03:00|60       |\n",
            "|17850     |1026.5000000000002|5820   |536365   |84029G   |KNITTED UNION FLAG HOT WATER BOTTLE|6       |12/1/10 8:26|3.39     |United Kingdom|2012-01-10 08:26:00|2012-01-10 10:03:00|60       |\n",
            "|17850     |1026.5000000000002|5820   |536365   |84029E   |RED WOOLLY HOTTIE WHITE HEART.     |6       |12/1/10 8:26|3.39     |United Kingdom|2012-01-10 08:26:00|2012-01-10 10:03:00|60       |\n",
            "+----------+------------------+-------+---------+---------+-----------------------------------+--------+------------+---------+--------------+-------------------+-------------------+---------+\n",
            "only showing top 5 rows\n",
            "\n"
          ]
        }
      ]
    },
    {
      "cell_type": "markdown",
      "source": [
        "### standarisation"
      ],
      "metadata": {
        "id": "rIZ3Fvksq_KT"
      }
    },
    {
      "cell_type": "code",
      "source": [
        "from pyspark.ml.feature import VectorAssembler\n",
        "from pyspark.ml.feature import StandardScaler\n",
        "assemble=VectorAssembler(inputCols=[\n",
        "'recency','frequency','moneytaru_value'\n",
        "], outputCol='features')\n",
        "assembled_data=assemble.transform(finaldf)\n",
        "scale=StandardScaler(inputCol='features',outputCol='standardized')\n",
        "data_scale=scale.fit(assembled_data)\n",
        "data_scale_output=data_scale.transform(assembled_data)"
      ],
      "metadata": {
        "id": "g3tCvwa9qxMn"
      },
      "execution_count": 33,
      "outputs": []
    },
    {
      "cell_type": "markdown",
      "source": [
        "# Model Construction"
      ],
      "metadata": {
        "id": "opuQIYntTHs5"
      }
    },
    {
      "cell_type": "code",
      "source": [
        "from pyspark.ml.clustering import KMeans\n",
        "from pyspark.ml.evaluation import ClusteringEvaluator\n",
        "import numpy as np\n",
        "\n",
        "cost = np.zeros(10)\n",
        "\n",
        "evaluator = ClusteringEvaluator(predictionCol='prediction',featuresCol='standardized',metricName='silhouette',distanceMeasure='squaredEuclidean')\n",
        "for i in range(2,10):\n",
        "  KMeans_algo=KMeans(featuresCol='standardized', k=i)\n",
        "  KMeans_fit=KMeans_algo.fit(data_scale_output)\n",
        "  output=KMeans_fit.transform(data_scale_output)\n",
        "  cost[i] = KMeans_fit.summary.trainingCost"
      ],
      "metadata": {
        "id": "Ojb9NnSjsXYs"
      },
      "execution_count": 34,
      "outputs": []
    },
    {
      "cell_type": "code",
      "source": [
        "import pandas as pd\n",
        "import pylab as pl\n",
        "df_cost = pd.DataFrame(cost[2:])\n",
        "df_cost.columns = [\"cost\"]\n",
        "new_col = range(2,10)\n",
        "df_cost.insert(0, 'cluster', new_col)\n",
        "pl.plot(df_cost.cluster, df_cost.cost)\n",
        "pl.xlabel('Number of Clusters')\n",
        "pl.ylabel('Score')\n",
        "pl.title('Elbow Curve')\n",
        "pl.show()"
      ],
      "metadata": {
        "colab": {
          "base_uri": "https://localhost:8080/",
          "height": 472
        },
        "id": "iRNI1CsUtRIN",
        "outputId": "82b01d72-a414-4aaf-bc6b-48b9970dc6e4"
      },
      "execution_count": 35,
      "outputs": [
        {
          "output_type": "display_data",
          "data": {
            "text/plain": [
              "<Figure size 640x480 with 1 Axes>"
            ],
            "image/png": "[encoded data removed]"
          },
          "metadata": {}
        }
      ]
    },
    {
      "cell_type": "code",
      "source": [
        "kmeans = KMeans(featuresCol='standardized', k=4)\n",
        "kmeans_model = kmeans.fit(data_scale_output)"
      ],
      "metadata": {
        "id": "Qg7-c5GHyB4L"
      },
      "execution_count": 36,
      "outputs": []
    },
    {
      "cell_type": "code",
      "source": [
        "predictions = kmeans_model.transform(data_scale_output)\n",
        "predictions.select('prediction').distinct().show(100)"
      ],
      "metadata": {
        "id": "YniycL7fyXhR",
        "colab": {
          "base_uri": "https://localhost:8080/"
        },
        "outputId": "8c1e5e94-7fb3-467f-c254-c721bfa606c3"
      },
      "execution_count": 37,
      "outputs": [
        {
          "output_type": "stream",
          "name": "stdout",
          "text": [
            "+----------+\n",
            "|prediction|\n",
            "+----------+\n",
            "|         1|\n",
            "|         3|\n",
            "|         2|\n",
            "|         0|\n",
            "+----------+\n",
            "\n"
          ]
        }
      ]
    },
    {
      "cell_type": "code",
      "source": [
        "import matplotlib.pyplot as plt\n",
        "import seaborn as sns\n",
        "\n",
        "# Convert Spark DataFrame to Pandas DataFrame for visualization\n",
        "predictions_pd = predictions.toPandas()\n",
        "\n",
        "# Create scatter plot\n",
        "plt.figure(figsize=(10, 8))\n",
        "sns.scatterplot(x='recency', y='moneytaru_value', hue='prediction', data=predictions_pd, palette='viridis', s=50)\n",
        "plt.title('Customer Segmentation based on Recency and Monetary Value')\n",
        "plt.xlabel('Recency (in seconds)')\n",
        "plt.ylabel('Monetary Value')\n",
        "plt.show()"
      ],
      "metadata": {
        "colab": {
          "base_uri": "https://localhost:8080/",
          "height": 718
        },
        "id": "RhEMDhyrwvlh",
        "outputId": "552d3a9f-3dcd-48ed-8317-072f64f32d9b"
      },
      "execution_count": 38,
      "outputs": [
        {
          "output_type": "display_data",
          "data": {
            "text/plain": [
              "<Figure size 1000x800 with 1 Axes>"
            ],
            "image/png": "[encoded data removed]"
          },
          "metadata": {}
        }
      ]
    },
    {
      "cell_type": "markdown",
      "metadata": {
        "id": "0201cf38"
      },
      "source": [
        "**Reasoning**:\n",
        "Compute the mean of recency, frequency, and monetary value for each cluster by grouping the predictions DataFrame by the 'prediction' column and calculating the mean for the specified columns.\n",
        "\n"
      ]
    },
    {
      "cell_type": "code",
      "metadata": {
        "id": "8c216baa"
      },
      "source": [
        "from pyspark.sql.functions import mean\n",
        "\n",
        "cluster_centers_df = predictions.groupBy('prediction').agg(\n",
        "    mean('recency').alias('avg_recency'),\n",
        "    mean('frequency').alias('avg_frequency'),\n",
        "    mean('moneytaru_value').alias('avg_moneytaru_value')\n",
        ")"
      ],
      "execution_count": 39,
      "outputs": []
    },
    {
      "cell_type": "markdown",
      "metadata": {
        "id": "0297056d"
      },
      "source": [
        "**Reasoning**:\n",
        "Display the cluster centers DataFrame to verify the calculated means for each cluster.\n",
        "\n"
      ]
    },
    {
      "cell_type": "code",
      "metadata": {
        "colab": {
          "base_uri": "https://localhost:8080/"
        },
        "id": "b39422fc",
        "outputId": "02df759f-5281-4c51-9176-7c9cbd7781c4"
      },
      "source": [
        "cluster_centers_df.show()"
      ],
      "execution_count": 40,
      "outputs": [
        {
          "output_type": "stream",
          "name": "stdout",
          "text": [
            "+----------+-------------------+------------------+-------------------+\n",
            "|prediction|        avg_recency|     avg_frequency|avg_moneytaru_value|\n",
            "+----------+-------------------+------------------+-------------------+\n",
            "|         1|-1566939.2504258943|  69.8756388415673| 338.30848381601436|\n",
            "|         3| -948379.5348837209|46.405684754521964|  1337.712997416023|\n",
            "|         2|         -2697360.0|              38.0| 4076.4800000000005|\n",
            "|         0|  -1677444.98630137| 18.57351598173516|  316.9266438356191|\n",
            "+----------+-------------------+------------------+-------------------+\n",
            "\n"
          ]
        }
      ]
    },
    {
      "cell_type": "markdown",
      "metadata": {
        "id": "095990ae"
      },
      "source": [
        "**Reasoning**:\n",
        "Convert the Spark DataFrame `cluster_centers_df` to a Pandas DataFrame for visualization and then create bar plots for average recency, frequency, and monetary value for each cluster.\n",
        "\n"
      ]
    },
    {
      "cell_type": "code",
      "metadata": {
        "colab": {
          "base_uri": "https://localhost:8080/",
          "height": 1000
        },
        "id": "387e8f50",
        "outputId": "3cca0513-c07d-4937-c3f3-0f0383acbdb2"
      },
      "source": [
        "import matplotlib.pyplot as plt\n",
        "import seaborn as sns\n",
        "\n",
        "# Convert Spark DataFrame to Pandas DataFrame for visualization\n",
        "cluster_centers_pd = cluster_centers_df.toPandas()\n",
        "\n",
        "# Sort by prediction for consistent plotting order\n",
        "cluster_centers_pd = cluster_centers_pd.sort_values('prediction')\n",
        "\n",
        "# Create bar plot for average recency\n",
        "plt.figure(figsize=(12, 5))\n",
        "sns.barplot(x='prediction', y='avg_recency', data=cluster_centers_pd, palette='viridis')\n",
        "plt.title('Average Recency by Cluster')\n",
        "plt.xlabel('Cluster')\n",
        "plt.ylabel('Average Recency (in seconds)')\n",
        "plt.show()\n",
        "\n",
        "# Create bar plot for average frequency\n",
        "plt.figure(figsize=(12, 5))\n",
        "sns.barplot(x='prediction', y='avg_frequency', data=cluster_centers_pd, palette='viridis')\n",
        "plt.title('Average Frequency by Cluster')\n",
        "plt.xlabel('Cluster')\n",
        "plt.ylabel('Average Frequency')\n",
        "plt.show()\n",
        "\n",
        "# Create bar plot for average monetary value\n",
        "plt.figure(figsize=(12, 5))\n",
        "sns.barplot(x='prediction', y='avg_moneytaru_value', data=cluster_centers_pd, palette='viridis')\n",
        "plt.title('Average Monetary Value by Cluster')\n",
        "plt.xlabel('Cluster')\n",
        "plt.ylabel('Average Monetary Value')\n",
        "plt.show()"
      ],
      "execution_count": 41,
      "outputs": [
        {
          "output_type": "stream",
          "name": "stderr",
          "text": [
            "/tmp/ipython-input-3295631201.py:12: FutureWarning: \n",
            "\n",
            "Passing `palette` without assigning `hue` is deprecated and will be removed in v0.14.0. Assign the `x` variable to `hue` and set `legend=False` for the same effect.\n",
            "\n",
            "  sns.barplot(x='prediction', y='avg_recency', data=cluster_centers_pd, palette='viridis')\n"
          ]
        },
        {
          "output_type": "display_data",
          "data": {
            "text/plain": [
              "<Figure size 1200x500 with 1 Axes>"
            ],
            "image/png": "[encoded data removed]"
          },
          "metadata": {}
        },
        {
          "output_type": "stream",
          "name": "stderr",
          "text": [
            "/tmp/ipython-input-3295631201.py:20: FutureWarning: \n",
            "\n",
            "Passing `palette` without assigning `hue` is deprecated and will be removed in v0.14.0. Assign the `x` variable to `hue` and set `legend=False` for the same effect.\n",
            "\n",
            "  sns.barplot(x='prediction', y='avg_frequency', data=cluster_centers_pd, palette='viridis')\n"
          ]
        },
        {
          "output_type": "display_data",
          "data": {
            "text/plain": [
              "<Figure size 1200x500 with 1 Axes>"
            ],
            "image/png": "[encoded data removed]"
          },
          "metadata": {}
        },
        {
          "output_type": "stream",
          "name": "stderr",
          "text": [
            "/tmp/ipython-input-3295631201.py:28: FutureWarning: \n",
            "\n",
            "Passing `palette` without assigning `hue` is deprecated and will be removed in v0.14.0. Assign the `x` variable to `hue` and set `legend=False` for the same effect.\n",
            "\n",
            "  sns.barplot(x='prediction', y='avg_moneytaru_value', data=cluster_centers_pd, palette='viridis')\n"
          ]
        },
        {
          "output_type": "display_data",
          "data": {
            "text/plain": [
              "<Figure size 1200x500 with 1 Axes>"
            ],
            "image/png": "[encoded data removed]"
          },
          "metadata": {}
        }
      ]
    },
    {
      "cell_type": "markdown",
      "metadata": {
        "id": "4d6e6f41"
      },
      "source": [
        "## Summary:\n",
        "\n",
        "### Data Analysis Key Findings\n",
        "\n",
        "*   The analysis identified four distinct clusters (0, 1, 2, and 3) based on recency, frequency, and monetary value.\n",
        "*   Cluster 0 is characterized by a relatively high average recency, low average frequency, and low average monetary value.\n",
        "*   Cluster 1 exhibits a low average recency, high average frequency, and high average monetary value, indicating recent, frequent, and high-spending customers.\n",
        "*   Cluster 2 shows a high average recency, low average frequency, and moderate average monetary value.\n",
        "*   Cluster 3 has a moderate average recency, moderate average frequency, and low average monetary value.\n"
      ]
    }
  ]
}